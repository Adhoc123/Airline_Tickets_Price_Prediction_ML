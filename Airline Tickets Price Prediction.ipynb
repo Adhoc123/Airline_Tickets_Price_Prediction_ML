{
 "cells": [
  {
   "cell_type": "code",
   "execution_count": null,
   "id": "f8920e50",
   "metadata": {},
   "outputs": [],
   "source": [
    "import pandas as pd                #importing pandas for data manupulation, data analysis \n",
    "import numpy as np                 #importing numpy for numerical computation\n",
    "import seaborn as sns              #importing seaborn for visualization purpose\n",
    "import matplotlib.pyplot as plt    #importing matplotlib for another visualization tasks"
   ]
  },
  {
   "cell_type": "code",
   "execution_count": null,
   "id": "204758a1",
   "metadata": {},
   "outputs": [],
   "source": [
    "train_data=pd.read_excel('Data_Train.xlsx')   #reading data"
   ]
  },
  {
   "cell_type": "code",
   "execution_count": null,
   "id": "cbf31ecd",
   "metadata": {
    "scrolled": true
   },
   "outputs": [],
   "source": [
    "train_data.head()                  #calling head to get preview of data"
   ]
  },
  {
   "cell_type": "code",
   "execution_count": 12,
   "id": "8db02cb1",
   "metadata": {},
   "outputs": [
    {
     "data": {
      "text/plain": [
       "Airline            0\n",
       "Date_of_Journey    0\n",
       "Source             0\n",
       "Destination        0\n",
       "Route              1\n",
       "Dep_Time           0\n",
       "Arrival_Time       0\n",
       "Duration           0\n",
       "Total_Stops        1\n",
       "Additional_Info    0\n",
       "Price              0\n",
       "dtype: int64"
      ]
     },
     "execution_count": 12,
     "metadata": {},
     "output_type": "execute_result"
    }
   ],
   "source": [
    "train_data.isna().sum()"
   ]
  },
  {
   "cell_type": "code",
   "execution_count": null,
   "id": "a318501b",
   "metadata": {},
   "outputs": [],
   "source": []
  }
 ],
 "metadata": {
  "kernelspec": {
   "display_name": "Python 3 (ipykernel)",
   "language": "python",
   "name": "python3"
  },
  "language_info": {
   "codemirror_mode": {
    "name": "ipython",
    "version": 3
   },
   "file_extension": ".py",
   "mimetype": "text/x-python",
   "name": "python",
   "nbconvert_exporter": "python",
   "pygments_lexer": "ipython3",
   "version": "3.9.7"
  }
 },
 "nbformat": 4,
 "nbformat_minor": 5
}
