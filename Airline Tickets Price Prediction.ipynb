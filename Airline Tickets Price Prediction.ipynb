{
 "cells": [
  {
   "cell_type": "code",
   "execution_count": null,
   "id": "cd1f9281",
   "metadata": {},
   "outputs": [],
   "source": [
    "import pandas as pd                #importing pandas for data manupulation, data analysis \n",
    "import numpy as np                 #importing numpy for numerical computation\n",
    "import seaborn as sns              #importing seaborn for visualization purpose\n",
    "import matplotlib.pyplot as plt    #importing matplotlib for another visualization tasks"
   ]
  },
  {
   "cell_type": "code",
   "execution_count": null,
   "id": "81e821e6",
   "metadata": {},
   "outputs": [],
   "source": [
    "train_data=pd.read_excel('Data_Train.xlsx')   #reading data"
   ]
  },
  {
   "cell_type": "code",
   "execution_count": null,
   "id": "f5333c03",
   "metadata": {
    "scrolled": true
   },
   "outputs": [],
   "source": [
    "train_data.head()                  #calling head to get preview of data"
   ]
  },
  {
   "cell_type": "code",
   "execution_count": null,
   "id": "2c45946e",
   "metadata": {},
   "outputs": [],
   "source": [
    "train_data.isna().sum()"
   ]
  },
  {
   "cell_type": "code",
   "execution_count": null,
   "id": "02602c5b",
   "metadata": {},
   "outputs": [],
   "source": []
  }
 ],
 "metadata": {
  "kernelspec": {
   "display_name": "Python 3 (ipykernel)",
   "language": "python",
   "name": "python3"
  },
  "language_info": {
   "codemirror_mode": {
    "name": "ipython",
    "version": 3
   },
   "file_extension": ".py",
   "mimetype": "text/x-python",
   "name": "python",
   "nbconvert_exporter": "python",
   "pygments_lexer": "ipython3",
   "version": "3.9.7"
  }
 },
 "nbformat": 4,
 "nbformat_minor": 5
}
