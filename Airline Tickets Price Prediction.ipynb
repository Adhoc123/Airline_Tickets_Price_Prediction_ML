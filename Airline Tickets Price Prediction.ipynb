{
 "cells": [
  {
   "cell_type": "code",
   "execution_count": null,
   "id": "cd1f9281",
   "metadata": {},
   "outputs": [],
   "source": [
    "import pandas as pd                #importing pandas for data manupulation, data analysis \n",
    "import numpy as np                 #importing numpy for numerical computation\n",
    "import seaborn as sns              #importing seaborn for visualization purpose\n",
    "import matplotlib.pyplot as plt    #importing matplotlib for another visualization tasks"
   ]
  },
  {
   "cell_type": "code",
   "execution_count": null,
   "id": "81e821e6",
   "metadata": {},
   "outputs": [],
   "source": [
    "train_data=pd.read_excel('Data_Train.xlsx')   #reading data"
   ]
  },
  {
   "cell_type": "code",
   "execution_count": null,
   "id": "f5333c03",
   "metadata": {
    "scrolled": true
   },
   "outputs": [],
   "source": [
    "train_data.head()                  #calling head to get preview of data"
   ]
  },
  {
   "cell_type": "code",
   "execution_count": null,
   "id": "656635e9",
   "metadata": {},
   "outputs": [],
   "source": [
    "train_data.shape"
   ]
  },
  {
   "cell_type": "code",
   "execution_count": null,
   "id": "2c45946e",
   "metadata": {},
   "outputs": [],
   "source": [
    "train_data.isna().sum()"
   ]
  },
  {
   "cell_type": "code",
   "execution_count": null,
   "id": "02602c5b",
   "metadata": {},
   "outputs": [],
   "source": [
    "train_data.dropna(inplace=True)"
   ]
  },
  {
   "cell_type": "code",
   "execution_count": null,
   "id": "f2c63033",
   "metadata": {},
   "outputs": [],
   "source": [
    "train_data.isna().sum()"
   ]
  },
  {
   "cell_type": "code",
   "execution_count": null,
   "id": "ab5b86d8",
   "metadata": {},
   "outputs": [],
   "source": [
    "train_data.dtypes"
   ]
  },
  {
   "cell_type": "code",
   "execution_count": null,
   "id": "d4ebc308",
   "metadata": {},
   "outputs": [],
   "source": [
    "def change_into_datetime(col):\n",
    "    train_data[col]=pd.to_datetime(train_data[col])"
   ]
  },
  {
   "cell_type": "code",
   "execution_count": null,
   "id": "709762ff",
   "metadata": {},
   "outputs": [],
   "source": [
    "train_data.columns"
   ]
  },
  {
   "cell_type": "code",
   "execution_count": null,
   "id": "80e3a073",
   "metadata": {},
   "outputs": [],
   "source": [
    "for i in ['Date_of_Journey','Dep_Time','Arrival_Time']:\n",
    "    change_into_datetime(i)"
   ]
  },
  {
   "cell_type": "code",
   "execution_count": null,
   "id": "09db0ec8",
   "metadata": {},
   "outputs": [],
   "source": [
    "train_data.dtypes"
   ]
  },
  {
   "cell_type": "code",
   "execution_count": null,
   "id": "be3fb358",
   "metadata": {},
   "outputs": [],
   "source": [
    "train_data['journey_day']=train_data['Date_of_Journey'].dt.day\n",
    "train_data['journey_month']=train_data['Date_of_Journey'].dt.month"
   ]
  },
  {
   "cell_type": "code",
   "execution_count": null,
   "id": "6c2a45b9",
   "metadata": {},
   "outputs": [],
   "source": [
    "train_data.head()"
   ]
  },
  {
   "cell_type": "code",
   "execution_count": null,
   "id": "abeb4f28",
   "metadata": {},
   "outputs": [],
   "source": [
    "train_data.drop('Date_of_Journey',axis=1,inplace=True)"
   ]
  },
  {
   "cell_type": "code",
   "execution_count": null,
   "id": "d029b20e",
   "metadata": {},
   "outputs": [],
   "source": [
    "train_data.head()"
   ]
  },
  {
   "cell_type": "code",
   "execution_count": null,
   "id": "a6a7be12",
   "metadata": {},
   "outputs": [],
   "source": [
    "def extract_hour(df,col):\n",
    "    df[col+'_hour']=df[col].dt.hour\n",
    "def extract_min(df,col):\n",
    "    df[col+'_minute']=df[col].dt.minute\n",
    "def drop_column(df,col):\n",
    "    df.drop(col,axis=1,inplace=True)\n"
   ]
  },
  {
   "cell_type": "code",
   "execution_count": null,
   "id": "6eecdaec",
   "metadata": {},
   "outputs": [],
   "source": [
    "extract_hour(train_data,'Dep_Time')\n",
    "extract_min(train_data,'Dep_Time')\n",
    "drop_column(train_data,'Dep_Time')"
   ]
  },
  {
   "cell_type": "code",
   "execution_count": null,
   "id": "be69bcf2",
   "metadata": {},
   "outputs": [],
   "source": [
    "train_data.head()"
   ]
  },
  {
   "cell_type": "code",
   "execution_count": null,
   "id": "df779d18",
   "metadata": {},
   "outputs": [],
   "source": [
    "extract_hour(train_data,'Arrival_Time')\n",
    "extract_min(train_data,'Arrival_Time')\n",
    "drop_column(train_data,'Arrival_Time')"
   ]
  },
  {
   "cell_type": "code",
   "execution_count": null,
   "id": "0b55d8d2",
   "metadata": {},
   "outputs": [],
   "source": [
    "train_data.head()"
   ]
  },
  {
   "cell_type": "code",
   "execution_count": null,
   "id": "0ae24dc9",
   "metadata": {},
   "outputs": [],
   "source": [
    "duration = list(train_data['Duration'])\n",
    "for i in range(len(duration)):\n",
    "    if len(duration[i].split(' '))==2:\n",
    "        pass\n",
    "    else:\n",
    "        if 'h' in duration[i]:\n",
    "            duration[i]=duration[i]+'0m'\n",
    "        else:\n",
    "            duration[i]='0h'+duration[i]"
   ]
  },
  {
   "cell_type": "code",
   "execution_count": null,
   "id": "708ba3ac",
   "metadata": {},
   "outputs": [],
   "source": [
    "train_data['Duration']=duration"
   ]
  },
  {
   "cell_type": "code",
   "execution_count": null,
   "id": "1badbd10",
   "metadata": {},
   "outputs": [],
   "source": [
    "train_data.head()"
   ]
  },
  {
   "cell_type": "code",
   "execution_count": null,
   "id": "4e10da97",
   "metadata": {},
   "outputs": [],
   "source": [
    "'2h 50m'.split(' ')[1][0:-1]"
   ]
  },
  {
   "cell_type": "code",
   "execution_count": null,
   "id": "f17d143e",
   "metadata": {},
   "outputs": [],
   "source": [
    "def hour(x):\n",
    "    return x.split(' ')[0][0:-1]\n",
    "def minute(x):\n",
    "    return x.split(' ')[1][0:-1]"
   ]
  },
  {
   "cell_type": "code",
   "execution_count": null,
   "id": "8bc79521",
   "metadata": {},
   "outputs": [],
   "source": [
    "train_data['Duration_hours']=train_data['Duration'].apply(hour)\n",
    "train_data['Duration_mins']=train_data['Duration'].apply(minute)"
   ]
  }
 ],
 "metadata": {
  "kernelspec": {
   "display_name": "Python 3 (ipykernel)",
   "language": "python",
   "name": "python3"
  },
  "language_info": {
   "codemirror_mode": {
    "name": "ipython",
    "version": 3
   },
   "file_extension": ".py",
   "mimetype": "text/x-python",
   "name": "python",
   "nbconvert_exporter": "python",
   "pygments_lexer": "ipython3",
   "version": "3.9.7"
  }
 },
 "nbformat": 4,
 "nbformat_minor": 5
}
